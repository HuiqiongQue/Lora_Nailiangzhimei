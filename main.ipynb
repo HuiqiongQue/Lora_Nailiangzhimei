{
  "nbformat": 4,
  "nbformat_minor": 0,
  "metadata": {
    "colab": {
      "provenance": [],
      "gpuType": "T4",
      "authorship_tag": "ABX9TyNEC+bgj7zFtaFtQ0Dfls0R",
      "include_colab_link": true
    },
    "kernelspec": {
      "name": "python3",
      "display_name": "Python 3"
    },
    "language_info": {
      "name": "python"
    },
    "accelerator": "GPU"
  },
  "cells": [
    {
      "cell_type": "markdown",
      "metadata": {
        "id": "view-in-github",
        "colab_type": "text"
      },
      "source": [
        "<a href=\"https://colab.research.google.com/github/HuiqiongQue/Lora_Nailiangzhimei/blob/main/main.ipynb\" target=\"_parent\"><img src=\"https://colab.research.google.com/assets/colab-badge.svg\" alt=\"Open In Colab\"/></a>"
      ]
    },
    {
      "cell_type": "code",
      "execution_count": null,
      "metadata": {
        "id": "WVMe03x94mge"
      },
      "outputs": [],
      "source": [
        "# ✅ STEP 1: 安装兼容版本的依赖\n",
        "# 稳定运行的版本（截至2025年初测试）\n",
        "\n",
        "!pip install -q --upgrade pip\n",
        "!pip install -q accelerate==0.27.2 \\\n",
        "                diffusers==0.27.2 \\\n",
        "                transformers==4.38.2 \\\n",
        "                peft==0.10.0 \\\n",
        "                datasets==2.18.0 \\\n",
        "                safetensors==0.4.2 \\\n",
        "                bitsandbytes==0.43.0 \\\n",
        "                xformers==0.0.25 \\\n",
        "                trl==0.7.10\n",
        "\n",
        "# ✅ 如果你用的是 Colab 免费版，确保你启用了 GPU：\n",
        "# 菜单栏选择「运行时」>「更改运行时类型」>「硬件加速器」选择 GPU\n"
      ]
    },
    {
      "cell_type": "code",
      "source": [
        "# ✅ STEP 1: 清理不兼容的预装库，避免后续出错\n",
        "!pip uninstall -y torch torchvision torchaudio sentence-transformers gcsfs\n",
        "\n",
        "# ✅ STEP 2: 安装稳定组合的依赖（不与 Colab 冲突）\n",
        "!pip install -q torch==2.2.1 torchvision==0.17.1 torchaudio==2.2.1 --index-url https://download.pytorch.org/whl/cu118\n",
        "!pip install -q diffusers==0.27.2 \\\n",
        "                transformers==4.38.2 \\\n",
        "                peft==0.10.0 \\\n",
        "                accelerate==0.27.2 \\\n",
        "                datasets==2.18.0 \\\n",
        "                safetensors==0.4.2 \\\n",
        "                bitsandbytes==0.43.0 \\\n",
        "                xformers==0.0.25 \\\n",
        "                trl==0.7.10 \\\n",
        "                sentencepiece==0.1.99 \\\n",
        "                fsspec==2025.3.2\n"
      ],
      "metadata": {
        "id": "lrtHwsAH6tlf"
      },
      "execution_count": null,
      "outputs": []
    },
    {
      "cell_type": "code",
      "source": [
        "# ✅ STEP 1: 再次卸载可能冲突的版本（如果之前已装）\n",
        "!pip uninstall -y fsspec datasets\n",
        "\n",
        "# ✅ STEP 2: 安装稳定不冲突的组合\n",
        "!pip install -q fsspec==2023.6.0\n",
        "!pip install -q datasets==2.18.0\n"
      ],
      "metadata": {
        "id": "D_ZjV0c17z3k"
      },
      "execution_count": null,
      "outputs": []
    },
    {
      "cell_type": "code",
      "source": [
        "# 安装兼容版本的 datasets（依赖 fsspec==2023.6.0）\n",
        "!pip install -q datasets==2.18.0 fsspec==2023.6.0\n"
      ],
      "metadata": {
        "id": "in0JY2Yc85A3"
      },
      "execution_count": null,
      "outputs": []
    },
    {
      "cell_type": "code",
      "source": [
        "from huggingface_hub import login\n",
        "\n",
        "# 会提示你输入 token：去 https://huggingface.co/settings/tokens 创建一个“Write”权限的 token\n",
        "login()\n"
      ],
      "metadata": {
        "id": "_pfpC6ha9FVh"
      },
      "execution_count": null,
      "outputs": []
    },
    {
      "cell_type": "code",
      "source": [
        "from diffusers import StableDiffusionPipeline\n",
        "import torch\n",
        "\n",
        "# ✅ 加载 SD 1.5 模型\n",
        "model_id = \"runwayml/stable-diffusion-v1-5\"\n",
        "\n",
        "pipe = StableDiffusionPipeline.from_pretrained(\n",
        "    model_id,\n",
        "    torch_dtype=torch.float16,  # 节省显存，兼容 Colab 免费版\n",
        "    revision=\"fp16\",\n",
        ").to(\"cuda\")\n",
        "\n",
        "# ✅ 简单测试：生成一张图片（确保模型加载成功）\n",
        "prompt = \"a beautiful futuristic city at sunset, digital painting\"\n",
        "image = pipe(prompt).images[0]\n",
        "image.save(\"test_image.png\")\n",
        "\n",
        "# 展示生成结果（可选）\n",
        "image.show()\n"
      ],
      "metadata": {
        "id": "yDsSols89MBu"
      },
      "execution_count": null,
      "outputs": []
    },
    {
      "cell_type": "code",
      "source": [
        "# ✅ 强制安装兼容的 huggingface_hub 版本\n",
        "!pip install -q huggingface_hub==0.20.3\n"
      ],
      "metadata": {
        "id": "Rr6334ho9mh0"
      },
      "execution_count": null,
      "outputs": []
    },
    {
      "cell_type": "code",
      "source": [
        "from diffusers import StableDiffusionPipeline\n",
        "import torch\n",
        "\n",
        "# 正确模型 ID（来自 runwayml）\n",
        "model_id = \"runwayml/stable-diffusion-v1-5\"\n",
        "\n",
        "# 去掉错误的 revision 参数\n",
        "pipe = StableDiffusionPipeline.from_pretrained(\n",
        "    model_id,\n",
        "    torch_dtype=torch.float16,   # 启用半精度节省显存\n",
        ").to(\"cuda\")\n",
        "\n",
        "# 简单测试：生成图像验证模型是否加载成功\n",
        "prompt = \"a beautiful futuristic city at sunset, digital painting\"\n",
        "image = pipe(prompt).images[0]\n",
        "image.save(\"test_image.png\")\n",
        "image.show()\n"
      ],
      "metadata": {
        "id": "9ufadJt_9mbj"
      },
      "execution_count": null,
      "outputs": []
    },
    {
      "cell_type": "code",
      "source": [
        "!pip install numpy\n"
      ],
      "metadata": {
        "id": "rmBT-d6gC8JO"
      },
      "execution_count": null,
      "outputs": []
    },
    {
      "cell_type": "code",
      "source": [
        "prompt = \"a beautiful futuristic city at sunset, digital painting\"\n",
        "image = pipe(prompt).images[0]\n",
        "image.save(\"test_image.png\")\n",
        "image.show()\n"
      ],
      "metadata": {
        "id": "REVirleIC_tH"
      },
      "execution_count": null,
      "outputs": []
    },
    {
      "cell_type": "code",
      "source": [
        "import os\n",
        "os.kill(os.getpid(), 9)\n"
      ],
      "metadata": {
        "id": "YZs7y73mDKB0"
      },
      "execution_count": null,
      "outputs": []
    },
    {
      "cell_type": "code",
      "source": [
        "from diffusers import StableDiffusionPipeline\n",
        "import torch\n",
        "\n",
        "model_id = \"runwayml/stable-diffusion-v1-5\"\n",
        "\n",
        "pipe = StableDiffusionPipeline.from_pretrained(\n",
        "    model_id,\n",
        "    torch_dtype=torch.float16\n",
        ").to(\"cuda\")\n"
      ],
      "metadata": {
        "id": "Khqyt4URDbRw"
      },
      "execution_count": null,
      "outputs": []
    },
    {
      "cell_type": "code",
      "source": [
        "prompt = \"a beautiful futuristic city at sunset, digital painting\"\n",
        "image = pipe(prompt).images[0]\n",
        "image.save(\"test_image.png\")\n",
        "image.show()\n"
      ],
      "metadata": {
        "id": "NGdCFLyKDu-R"
      },
      "execution_count": null,
      "outputs": []
    },
    {
      "cell_type": "code",
      "source": [
        "!pip install --force-reinstall numpy\n"
      ],
      "metadata": {
        "id": "HeA1xHoxD4VZ"
      },
      "execution_count": null,
      "outputs": []
    },
    {
      "cell_type": "code",
      "source": [
        "# 1. 登录 Hugging Face\n",
        "from huggingface_hub import login\n",
        "login()  # 粘贴你的 token\n",
        "\n",
        "# 2. 加载 Stable Diffusion 模型\n",
        "from diffusers import StableDiffusionPipeline\n",
        "import torch\n",
        "\n",
        "pipe = StableDiffusionPipeline.from_pretrained(\n",
        "    \"runwayml/stable-diffusion-v1-5\",\n",
        "    torch_dtype=torch.float16\n",
        ").to(\"cuda\")\n",
        "\n",
        "# 3. 生成图像测试\n",
        "prompt = \"a beautiful futuristic city at sunset, digital painting\"\n",
        "image = pipe(prompt).images[0]\n",
        "image.save(\"test_image.png\")\n",
        "image.show()\n"
      ],
      "metadata": {
        "id": "nPE2CmpFECEN"
      },
      "execution_count": null,
      "outputs": []
    },
    {
      "cell_type": "code",
      "source": [
        "!pip uninstall -y numpy\n"
      ],
      "metadata": {
        "id": "PxR0jvjJEZR-"
      },
      "execution_count": null,
      "outputs": []
    },
    {
      "cell_type": "code",
      "source": [
        "!pip install numpy==1.26.4\n"
      ],
      "metadata": {
        "id": "zXB7pnVeEcWz"
      },
      "execution_count": null,
      "outputs": []
    },
    {
      "cell_type": "code",
      "source": [
        "from huggingface_hub import login\n",
        "login()  # 粘贴你的 access token\n"
      ],
      "metadata": {
        "id": "FVbdjhz8Etx5"
      },
      "execution_count": null,
      "outputs": []
    },
    {
      "cell_type": "code",
      "source": [
        "from diffusers import StableDiffusionPipeline\n",
        "import torch\n",
        "\n",
        "pipe = StableDiffusionPipeline.from_pretrained(\n",
        "    \"runwayml/stable-diffusion-v1-5\",\n",
        "    torch_dtype=torch.float16\n",
        ").to(\"cuda\")\n"
      ],
      "metadata": {
        "id": "hW6br-eYExcy"
      },
      "execution_count": null,
      "outputs": []
    },
    {
      "cell_type": "code",
      "source": [
        "prompt = \"a beautiful futuristic city at sunset, digital painting\"\n",
        "image = pipe(prompt).images[0]\n",
        "image.save(\"test_image.png\")\n",
        "image.show()\n"
      ],
      "metadata": {
        "id": "zdTiDgxrFMfs"
      },
      "execution_count": null,
      "outputs": []
    },
    {
      "cell_type": "code",
      "source": [
        "from google.colab import drive\n",
        "drive.mount('/content/drive')\n"
      ],
      "metadata": {
        "id": "MtSUC1Z0GTVX"
      },
      "execution_count": null,
      "outputs": []
    },
    {
      "cell_type": "code",
      "source": [
        "!git clone https://github.com/huggingface/diffusers.git\n",
        "%cd diffusers\n",
        "!pip install -e .\n"
      ],
      "metadata": {
        "id": "eTjDXPDXK_Wq"
      },
      "execution_count": null,
      "outputs": []
    },
    {
      "cell_type": "code",
      "source": [
        "!mkdir -p /content/drive/MyDrive/Image/Nailiangmeizhi/captions\n",
        "!mv /content/drive/MyDrive/Image/Nailiangmeizhi/*.txt /content/drive/MyDrive/Image/Nailiangmeizhi/captions/\n"
      ],
      "metadata": {
        "id": "f0HoIokLM-mH"
      },
      "execution_count": null,
      "outputs": []
    },
    {
      "cell_type": "code",
      "source": [
        "import os\n",
        "import shutil\n",
        "\n",
        "source = \"/content/drive/MyDrive/Image/Nailiangmeizhi\"\n",
        "target = \"/content/lora_clean_data\"\n",
        "\n",
        "# 创建目标目录\n",
        "os.makedirs(target, exist_ok=True)\n",
        "\n",
        "# 只复制图片文件\n",
        "for f in os.listdir(source):\n",
        "    if f.lower().endswith((\".jpg\", \".jpeg\", \".png\", \".webp\")):\n",
        "        shutil.copy(os.path.join(source, f), os.path.join(target, f))\n"
      ],
      "metadata": {
        "id": "bwsW_3GWNrvw"
      },
      "execution_count": null,
      "outputs": []
    },
    {
      "cell_type": "code",
      "source": [
        "!accelerate launch examples/dreambooth/train_dreambooth_lora.py \\\n",
        "  --pretrained_model_name_or_path=\"runwayml/stable-diffusion-v1-5\" \\\n",
        "  --instance_data_dir=\"/content/lora_clean_data\" \\\n",
        "  --output_dir=\"/content/drive/MyDrive/sd15-lora-nailiang\" \\\n",
        "  --instance_prompt=\"a photo of Nailiangmeizhi person\" \\\n",
        "  --resolution=512 \\\n",
        "  --train_batch_size=1 \\\n",
        "  --gradient_accumulation_steps=4 \\\n",
        "  --learning_rate=1e-4 \\\n",
        "  --lr_scheduler=\"constant\" \\\n",
        "  --lr_warmup_steps=0 \\\n",
        "  --max_train_steps=200 \\\n",
        "  --checkpointing_steps=100 \\\n",
        "  --seed=42 \\\n",
        "  --mixed_precision=\"fp16\" \\\n",
        "  --train_text_encoder\n"
      ],
      "metadata": {
        "id": "T5GqpiUCMcna"
      },
      "execution_count": null,
      "outputs": []
    },
    {
      "cell_type": "code",
      "source": [
        "from diffusers import StableDiffusionPipeline\n",
        "import torch\n",
        "\n",
        "# 基础模型：Stable Diffusion v1.5\n",
        "base_model = \"runwayml/stable-diffusion-v1-5\"\n",
        "# 你的 LoRA 权重路径\n",
        "lora_path = \"/content/drive/MyDrive/sd15-lora-nailiang/pytorch_lora_weights.safetensors\"\n",
        "\n",
        "# ✅ 加载基础模型（fp16 以节省显存）\n",
        "pipe = StableDiffusionPipeline.from_pretrained(\n",
        "    base_model,\n",
        "    torch_dtype=torch.float16,\n",
        ").to(\"cuda\")\n",
        "\n",
        "# ✅ 加载你训练的 LoRA\n",
        "pipe.load_lora_weights(lora_path)\n",
        "\n",
        "# ✅ 设置 prompt（你训练时使用的 prompt 风格）\n",
        "prompt = \"a photo of Nailiangmeizhi person in a futuristic city, high detail, cinematic lighting\"\n",
        "negative_prompt = \"blurry, low quality, distorted face\"\n",
        "\n",
        "# ✅ 生成图片\n",
        "image = pipe(prompt=prompt, negative_prompt=negative_prompt, num_inference_steps=30).images[0]\n",
        "\n",
        "# ✅ 显示图片\n",
        "# image.show()\n",
        "image.save(\"/content/drive/MyDrive/lora_result.png\")\n",
        "\n"
      ],
      "metadata": {
        "id": "O3X-iSN5QRsG"
      },
      "execution_count": null,
      "outputs": []
    },
    {
      "cell_type": "code",
      "source": [
        "!pip install -q huggingface_hub==0.20.3\n"
      ],
      "metadata": {
        "id": "56G6y-NCf5BD"
      },
      "execution_count": null,
      "outputs": []
    },
    {
      "cell_type": "code",
      "source": [
        "from diffusers import StableDiffusionControlNetPipeline, ControlNetModel\n",
        "from controlnet_aux import CannyDetector\n"
      ],
      "metadata": {
        "id": "YeqJPp1mgJQZ"
      },
      "execution_count": null,
      "outputs": []
    },
    {
      "cell_type": "code",
      "source": [
        "!pip install -q diffusers==0.27.2 transformers==4.38.2 accelerate==0.27.2 controlnet-aux==0.0.6 opencv-python\n",
        "!pip install -q huggingface-hub==0.20.3\n"
      ],
      "metadata": {
        "id": "oBnayOQrgV8K"
      },
      "execution_count": null,
      "outputs": []
    },
    {
      "cell_type": "code",
      "source": [
        "from google.colab import files\n",
        "uploaded = files.upload()  # 上传你想让 LoRA 学风格的图片，例如 selfie.jpg\n"
      ],
      "metadata": {
        "id": "whhJ3mk-gzg4"
      },
      "execution_count": null,
      "outputs": []
    },
    {
      "cell_type": "code",
      "source": [
        "import cv2\n",
        "from PIL import Image\n",
        "import numpy as np\n",
        "\n",
        "# 替换成你的文件名\n",
        "input_path = \"/content/1c215ee6d30a8118a1524d96b6bc3387.jpg\"\n",
        "\n",
        "# 生成边缘图并保存\n",
        "image = cv2.imread(input_path)\n",
        "image = cv2.resize(image, (512, 512))\n",
        "edges = cv2.Canny(image, 100, 200)\n",
        "edges_image = Image.fromarray(edges)\n",
        "edges_image.save(\"/content/canny.png\")\n"
      ],
      "metadata": {
        "id": "0JBmM4agg4HN"
      },
      "execution_count": null,
      "outputs": []
    },
    {
      "cell_type": "code",
      "source": [
        "!pip uninstall -y peft\n"
      ],
      "metadata": {
        "id": "mXjnbkDuiLSJ"
      },
      "execution_count": null,
      "outputs": []
    },
    {
      "cell_type": "code",
      "source": [
        "!pip install -q diffusers==0.27.2 transformers==4.38.2 accelerate==0.27.2 controlnet-aux==0.0.6 opencv-python huggingface-hub==0.20.3\n"
      ],
      "metadata": {
        "id": "dwyY9Q0mia8T"
      },
      "execution_count": null,
      "outputs": []
    },
    {
      "cell_type": "code",
      "source": [
        "from google.colab import drive\n",
        "drive.mount('/content/drive')\n"
      ],
      "metadata": {
        "id": "stkc90BFkyWy"
      },
      "execution_count": null,
      "outputs": []
    },
    {
      "cell_type": "code",
      "source": [
        "import os\n",
        "lora_dir = \"/content/drive/MyDrive/sd15-lora-nailiang\"\n",
        "print(os.listdir(lora_dir))\n"
      ],
      "metadata": {
        "id": "5uOmdynVlBss"
      },
      "execution_count": null,
      "outputs": []
    },
    {
      "cell_type": "code",
      "source": [
        "import torch\n",
        "from diffusers import StableDiffusionControlNetPipeline, ControlNetModel\n",
        "from safetensors.torch import load_file\n",
        "from PIL import Image\n",
        "import cv2\n",
        "\n",
        "# ✅ 这是你训练好的 LoRA safetensors 文件路径\n",
        "lora_path = \"/content/drive/MyDrive/sd15-lora-nailiang/pytorch_lora_weights.safetensors\"\n",
        "\n",
        "# 加载 ControlNet (Canny)\n",
        "controlnet = ControlNetModel.from_pretrained(\n",
        "    \"lllyasviel/sd-controlnet-canny\",\n",
        "    torch_dtype=torch.float16\n",
        ")\n",
        "\n",
        "# 加载 Stable Diffusion 1.5 + ControlNet\n",
        "pipe = StableDiffusionControlNetPipeline.from_pretrained(\n",
        "    \"runwayml/stable-diffusion-v1-5\",\n",
        "    controlnet=controlnet,\n",
        "    torch_dtype=torch.float16\n",
        ").to(\"cuda\")\n",
        "\n",
        "# ✅ 手动合并 LoRA 权重\n",
        "def merge_lora_weights(unet, lora_path, alpha=1.0):\n",
        "    lora_state_dict = load_file(lora_path)\n",
        "    visited = []\n",
        "\n",
        "    for key in lora_state_dict:\n",
        "        if \"lora_down\" not in key:\n",
        "            continue\n",
        "\n",
        "        layer = key.replace(\".lora_down.weight\", \"\")\n",
        "        lora_down = lora_state_dict[key]\n",
        "        lora_up = lora_state_dict[key.replace(\"lora_down\", \"lora_up\")]\n",
        "        weight = torch.mm(lora_up, lora_down) * alpha\n",
        "\n",
        "        parts = layer.split(\".\")\n",
        "        module = unet\n",
        "        for p in parts:\n",
        "            if p.isdigit():\n",
        "                module = module[int(p)]\n",
        "            else:\n",
        "                module = getattr(module, p)\n",
        "\n",
        "        if module.weight.shape == weight.shape:\n",
        "            module.weight.data += weight.to(module.weight.device)\n",
        "            visited.append(layer)\n",
        "\n",
        "    print(f\"✅ 合并完成 LoRA 层数: {len(visited)}\")\n",
        "\n",
        "# 运行合并函数\n",
        "merge_lora_weights(pipe.unet, lora_path)\n"
      ],
      "metadata": {
        "id": "bBrV1KETlUIF"
      },
      "execution_count": null,
      "outputs": []
    },
    {
      "cell_type": "code",
      "source": [
        "from PIL import Image\n",
        "\n",
        "# 加载 Canny 边缘图（你之前生成的）\n",
        "control_image = Image.open(\"/content/canny.png\").convert(\"RGB\")\n",
        "\n",
        "# Prompt 设置：这里你可以改成任意风格\n",
        "prompt = \"a photo of Nailiangmeizhi person wearing an elegant white dress in a futuristic city, dramatic lighting\"\n",
        "negative_prompt = \"low quality, blurry, bad hands, disfigured\"\n",
        "\n",
        "# 生成图像\n",
        "image = pipe(\n",
        "    prompt=prompt,\n",
        "    negative_prompt=negative_prompt,\n",
        "    image=control_image,\n",
        "    num_inference_steps=30,\n",
        "    guidance_scale=7.5,\n",
        "    controlnet_conditioning_scale=1.0,\n",
        ").images[0]\n",
        "\n",
        "# 显示图像\n",
        "image.show()\n",
        "\n",
        "# 可选：保存图像\n",
        "image.save(\"/content/drive/MyDrive/lora_controlnet_output.png\")\n"
      ],
      "metadata": {
        "id": "Q_h2JRVhlut1"
      },
      "execution_count": null,
      "outputs": []
    }
  ]
}